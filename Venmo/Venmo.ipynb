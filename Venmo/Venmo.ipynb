{
 "cells": [
  {
   "cell_type": "code",
   "execution_count": 2,
   "metadata": {},
   "outputs": [],
   "source": [
    "import numpy as np\n",
    "import pandas as pd\n",
    "import matplotlib.pyplot as plt\n",
    "import seaborn as sns\n",
    "import math\n",
    "from matplotlib.colors import LogNorm\n",
    "from matplotlib.backends.backend_pdf import PdfPages\n",
    "import copy\n",
    "import matplotlib\n",
    "from scipy.stats import entropy\n",
    "import scipy.stats as stats\n",
    "import glob, os\n",
    "from matplotlib.ticker import MaxNLocator\n",
    "from statistics import mean, stdev"
   ]
  },
  {
   "cell_type": "code",
   "execution_count": 3,
   "metadata": {},
   "outputs": [],
   "source": [
    "df = pd.read_csv('Motif_counts/trans.txt_86400_2_2', skiprows=3, header=None, dtype=str)\n",
    "df1 = pd.read_csv('Motif_counts/trans.txt_86400_2_3', skiprows=3, header=None, dtype=str)\n",
    "df2 = pd.read_csv('Motif_counts/trans.txt_86400_3_2', skiprows=3, header=None, dtype=str)\n",
    "df3 = pd.read_csv('Motif_counts/trans.txt_86400_3_3', skiprows=3, header=None, dtype=str)\n",
    "df = pd.concat([df,df1,df2,df3])"
   ]
  },
  {
   "cell_type": "code",
   "execution_count": 4,
   "metadata": {},
   "outputs": [],
   "source": [
    "df.columns = ['u','v','t','motif','count']\n",
    "df['t'] = df['t'].astype(int)"
   ]
  },
  {
   "cell_type": "code",
   "execution_count": 5,
   "metadata": {},
   "outputs": [],
   "source": [
    "label = pd.read_csv('Data/transactions.csv')"
   ]
  },
  {
   "cell_type": "code",
   "execution_count": 6,
   "metadata": {},
   "outputs": [],
   "source": [
    "df = pd.merge(df,label,how=\"left\",on=['U','V','t'])"
   ]
  },
  {
   "cell_type": "code",
   "execution_count": 7,
   "metadata": {},
   "outputs": [
    {
     "name": "stdout",
     "output_type": "stream",
     "text": [
      "(27530, 7)\n",
      "(201356, 7)\n"
     ]
    }
   ],
   "source": [
    "print(df[df['friend']==0].shape)\n",
    "print(df[df['friend']==1].shape)"
   ]
  },
  {
   "cell_type": "code",
   "execution_count": 8,
   "metadata": {},
   "outputs": [],
   "source": [
    "F = df[df['friend']==1].reset_index(drop=True)\n",
    "N = df[df['friend']==0].reset_index(drop=True)"
   ]
  },
  {
   "cell_type": "code",
   "execution_count": 9,
   "metadata": {},
   "outputs": [],
   "source": [
    "motifs = pd.read_csv('Motif_counts/motifs.csv', dtype=str)\n",
    "digit = motifs['motif'].values\n",
    "ep = motifs['label'].values"
   ]
  },
  {
   "cell_type": "markdown",
   "metadata": {},
   "source": [
    "# classification"
   ]
  },
  {
   "cell_type": "code",
   "execution_count": 9,
   "metadata": {},
   "outputs": [],
   "source": [
    "digit_2e = digit[:6]\n",
    "ep_2e = ep[:6]\n",
    "digit_3e = digit[6:]\n",
    "ep_3e = ep[6:]"
   ]
  },
  {
   "cell_type": "code",
   "execution_count": 10,
   "metadata": {},
   "outputs": [],
   "source": [
    "# pivot to feature table\n",
    "df = df[df['motif'].isin(digit)]\n",
    "df = df.dropna().drop_duplicates().reset_index(drop=True)\n",
    "df = df.iloc[df[['u','v','t','motif']].drop_duplicates().index].reset_index(drop=True)\n",
    "df = df.pivot(index=[\"u\",\"v\",\"t\"],columns=[\"motif\"],values=\"count\")\n",
    "df.index = df.index.set_names(['u', 'v', 't'])\n",
    "df.reset_index(inplace=True)\n",
    "df = df.fillna(0)\n",
    "\n",
    "# transactions data\n",
    "trans = label.iloc[label[['u','v','t']].drop_duplicates().index].reset_index(drop=True)\n",
    "trans = trans.dropna().reset_index(drop=True)"
   ]
  },
  {
   "cell_type": "code",
   "execution_count": 11,
   "metadata": {},
   "outputs": [
    {
     "name": "stdout",
     "output_type": "stream",
     "text": [
      "(52021, 45)\n",
      "(105539, 5)\n"
     ]
    }
   ],
   "source": [
    "print(df.shape)\n",
    "print(trans.shape)"
   ]
  },
  {
   "cell_type": "code",
   "execution_count": 12,
   "metadata": {},
   "outputs": [
    {
     "data": {
      "text/plain": [
       "(105539, 47)"
      ]
     },
     "execution_count": 12,
     "metadata": {},
     "output_type": "execute_result"
    }
   ],
   "source": [
    "# outer merge\n",
    "trans = pd.merge(trans, df, how=\"left\")\n",
    "trans.shape"
   ]
  },
  {
   "cell_type": "code",
   "execution_count": 13,
   "metadata": {},
   "outputs": [],
   "source": [
    "for d in digit:\n",
    "    if d not in trans.columns:\n",
    "        trans[d] = np.zeros(trans.shape[0]).astype(int)"
   ]
  },
  {
   "cell_type": "code",
   "execution_count": 14,
   "metadata": {},
   "outputs": [],
   "source": [
    "# in and out merge data\n",
    "in_data = trans.dropna().reset_index(drop=True)\n",
    "out_data = trans.fillna(0)"
   ]
  },
  {
   "cell_type": "code",
   "execution_count": 16,
   "metadata": {},
   "outputs": [],
   "source": [
    "def process_data(input_data):\n",
    "    y = input_data['friend'].values\n",
    "#     y = input_data['friend'].values\n",
    "    x2 = []\n",
    "    x3 = []\n",
    "    xall = []\n",
    "    for i in range(input_data.shape[0]):\n",
    "        temp2 = []\n",
    "        temp3 = []\n",
    "        temp = []\n",
    "        for m2 in digit_2e:\n",
    "            temp2.append(input_data[m2][i])            \n",
    "        for m3 in digit_3e:\n",
    "            temp3.append(input_data[m3][i])\n",
    "        for mall in digit:\n",
    "            temp.append(input_data[mall][i])\n",
    "        x2.append(temp2)\n",
    "        x3.append(temp3)\n",
    "        xall.append(temp)\n",
    "    x2 = np.array(x2).astype(int)\n",
    "    x3 = np.array(x3).astype(int)\n",
    "    xall = np.array(xall).astype(int)\n",
    "    return y, x2, x3, xall"
   ]
  },
  {
   "cell_type": "code",
   "execution_count": null,
   "metadata": {},
   "outputs": [],
   "source": []
  },
  {
   "cell_type": "code",
   "execution_count": 70,
   "metadata": {},
   "outputs": [],
   "source": [
    "Y, X2, X3, X = process_data(in_data)\n",
    "# Y, X2, X3, X = process_data(out_data)"
   ]
  },
  {
   "cell_type": "code",
   "execution_count": 18,
   "metadata": {},
   "outputs": [
    {
     "data": {
      "text/plain": [
       "(52021,)"
      ]
     },
     "execution_count": 18,
     "metadata": {},
     "output_type": "execute_result"
    }
   ],
   "source": [
    "Y.shape"
   ]
  },
  {
   "cell_type": "markdown",
   "metadata": {},
   "source": [
    "# Heuristic Scores"
   ]
  },
  {
   "cell_type": "code",
   "execution_count": 71,
   "metadata": {},
   "outputs": [
    {
     "name": "stdout",
     "output_type": "stream",
     "text": [
      "0.5018625981978931\n",
      "0.9243245479746783\n",
      "0.8593629789198338\n",
      "0.9999104824993286\n"
     ]
    }
   ],
   "source": [
    "from sklearn.linear_model import LogisticRegression\n",
    "from sklearn.metrics import f1_score, roc_auc_score, precision_score, recall_score\n",
    "from sklearn.model_selection import train_test_split\n",
    "\n",
    "X_train, X_test, y_train, y_test = train_test_split(X, Y, test_size=0.25)\n",
    "\n",
    "logisticRegr = LogisticRegression(solver='lbfgs')\n",
    "logisticRegr.fit(X_train, y_train)\n",
    "y_predict = logisticRegr.predict(X_test)\n",
    "print(roc_auc_score(y_test,y_predict))\n",
    "print(f1_score(y_test,y_predict))\n",
    "print(precision_score(y_test,y_predict))\n",
    "print(recall_score(y_test,y_predict))"
   ]
  },
  {
   "cell_type": "code",
   "execution_count": 25,
   "metadata": {},
   "outputs": [],
   "source": [
    "import networkx as nx\n",
    "df = in_data[['u','v','friend']].drop_duplicates().reset_index(drop=True)\n",
    "G = nx.from_pandas_edgelist(df, source='u', target='v')"
   ]
  },
  {
   "cell_type": "code",
   "execution_count": 28,
   "metadata": {},
   "outputs": [],
   "source": [
    "label = df['friend'].values\n",
    "E = []\n",
    "for i in range(df.shape[0]):\n",
    "    E.append((df['u'][i], df['v'][i]))"
   ]
  },
  {
   "cell_type": "code",
   "execution_count": 59,
   "metadata": {},
   "outputs": [],
   "source": [
    "jc = nx.jaccard_coefficient(G, E)\n",
    "aa = nx.adamic_adar_index(G, E)"
   ]
  },
  {
   "cell_type": "code",
   "execution_count": 60,
   "metadata": {},
   "outputs": [],
   "source": [
    "JC = []\n",
    "for u, v, p in jc:\n",
    "    JC.append(p)\n",
    "\n",
    "AA = []\n",
    "for u, v, p in aa:\n",
    "    AA.append(p)"
   ]
  },
  {
   "cell_type": "code",
   "execution_count": 68,
   "metadata": {},
   "outputs": [
    {
     "name": "stdout",
     "output_type": "stream",
     "text": [
      "0.817591763652641\n",
      "1.0\n",
      "0.5\n",
      "0.8996429011205517\n"
     ]
    }
   ],
   "source": [
    "X = np.array(JC).reshape(-1, 1)\n",
    "X_train, X_test, y_train, y_test = train_test_split(X, label, test_size=0.25)\n",
    "\n",
    "logisticRegr = LogisticRegression(solver='lbfgs')\n",
    "logisticRegr.fit(X_train, y_train)\n",
    "\n",
    "y_predict = logisticRegr.predict(X_test)\n",
    "print(precision_score(y_test,y_predict))\n",
    "print(recall_score(y_test,y_predict))\n",
    "print(roc_auc_score(y_test,y_predict))\n",
    "print(f1_score(y_test,y_predict))"
   ]
  },
  {
   "cell_type": "code",
   "execution_count": 75,
   "metadata": {},
   "outputs": [
    {
     "name": "stdout",
     "output_type": "stream",
     "text": [
      "0.8303491495076096\n",
      "1.0\n",
      "0.5\n",
      "0.9073123012961604\n"
     ]
    }
   ],
   "source": [
    "X = np.array(AA).reshape(-1, 1)\n",
    "X_train, X_test, y_train, y_test = train_test_split(X, label, test_size=0.25)\n",
    "\n",
    "logisticRegr = LogisticRegression(solver='lbfgs')\n",
    "logisticRegr.fit(X_train, y_train)\n",
    "\n",
    "y_predict = logisticRegr.predict(X_test)\n",
    "print(precision_score(y_test,y_predict))\n",
    "print(recall_score(y_test,y_predict))\n",
    "print(roc_auc_score(y_test,y_predict))\n",
    "print(f1_score(y_test,y_predict))"
   ]
  },
  {
   "cell_type": "markdown",
   "metadata": {},
   "source": [
    "# XGBoost"
   ]
  },
  {
   "cell_type": "code",
   "execution_count": 72,
   "metadata": {},
   "outputs": [],
   "source": [
    "from xgboost import XGBClassifier"
   ]
  },
  {
   "cell_type": "code",
   "execution_count": 81,
   "metadata": {},
   "outputs": [],
   "source": [
    "X_train, X_test, y_train, y_test = train_test_split(X, label, test_size=0.25)\n",
    "xgb = XGBClassifier()\n",
    "xgb.fit(X_train, y_train)\n",
    "y_predict = xgb.predict(X_test)"
   ]
  },
  {
   "cell_type": "code",
   "execution_count": 82,
   "metadata": {},
   "outputs": [
    {
     "name": "stdout",
     "output_type": "stream",
     "text": [
      "0.8321364452423698\n",
      "0.9986533800161594\n",
      "0.5039624515974838\n",
      "0.9078222548659567\n"
     ]
    }
   ],
   "source": [
    "print(precision_score(y_test,y_predict))\n",
    "print(recall_score(y_test,y_predict))\n",
    "print(roc_auc_score(y_test,y_predict))\n",
    "print(f1_score(y_test,y_predict))"
   ]
  },
  {
   "cell_type": "markdown",
   "metadata": {},
   "source": [
    "# LR"
   ]
  },
  {
   "cell_type": "code",
   "execution_count": 18,
   "metadata": {},
   "outputs": [],
   "source": [
    "from sklearn.linear_model import LogisticRegression\n",
    "from sklearn.metrics import f1_score, roc_auc_score, precision_score, recall_score\n",
    "from sklearn.model_selection import train_test_split"
   ]
  },
  {
   "cell_type": "code",
   "execution_count": 19,
   "metadata": {},
   "outputs": [],
   "source": [
    "X_train, X_test, y_train, y_test = train_test_split(X, Y, test_size=0.25)"
   ]
  },
  {
   "cell_type": "code",
   "execution_count": 25,
   "metadata": {},
   "outputs": [
    {
     "data": {
      "text/plain": [
       "0.859141934491773"
      ]
     },
     "execution_count": 25,
     "metadata": {},
     "output_type": "execute_result"
    }
   ],
   "source": [
    "sum(y_test)/len(y_test)"
   ]
  },
  {
   "cell_type": "code",
   "execution_count": 26,
   "metadata": {},
   "outputs": [
    {
     "name": "stdout",
     "output_type": "stream",
     "text": [
      "0.5013198820874722\n",
      "0.9243815669727807\n",
      "0.8594615384615385\n",
      "0.999910506533023\n"
     ]
    }
   ],
   "source": [
    "logisticRegr = LogisticRegression(solver='lbfgs')\n",
    "logisticRegr.fit(X_train, y_train)\n",
    "y_predict = logisticRegr.predict(X_test)\n",
    "print(roc_auc_score(y_test,y_predict))\n",
    "print(f1_score(y_test,y_predict))\n",
    "print(precision_score(y_test,y_predict))\n",
    "print(recall_score(y_test,y_predict))"
   ]
  },
  {
   "cell_type": "markdown",
   "metadata": {},
   "source": [
    "# SVM"
   ]
  },
  {
   "cell_type": "code",
   "execution_count": 27,
   "metadata": {},
   "outputs": [],
   "source": [
    "from sklearn.svm import SVC\n",
    "from sklearn.model_selection import train_test_split"
   ]
  },
  {
   "cell_type": "code",
   "execution_count": 28,
   "metadata": {},
   "outputs": [],
   "source": [
    "clf = SVC(kernel='rbf',gamma='scale').fit(X_train, y_train)\n",
    "y_predict = clf.predict(X_test)"
   ]
  },
  {
   "cell_type": "code",
   "execution_count": 29,
   "metadata": {},
   "outputs": [
    {
     "name": "stdout",
     "output_type": "stream",
     "text": [
      "0.5018657336158565\n",
      "0.9244580506371007\n",
      "0.8595937836590245\n",
      "0.999910506533023\n"
     ]
    }
   ],
   "source": [
    "print(roc_auc_score(y_test,y_predict))\n",
    "print(f1_score(y_test,y_predict))\n",
    "print(precision_score(y_test,y_predict))\n",
    "print(recall_score(y_test,y_predict))"
   ]
  },
  {
   "cell_type": "markdown",
   "metadata": {},
   "source": [
    "# RF"
   ]
  },
  {
   "cell_type": "code",
   "execution_count": 30,
   "metadata": {},
   "outputs": [],
   "source": [
    "from sklearn.ensemble import RandomForestClassifier"
   ]
  },
  {
   "cell_type": "code",
   "execution_count": 31,
   "metadata": {},
   "outputs": [],
   "source": [
    "rf = RandomForestClassifier(n_estimators=100)\n",
    "rf.fit(X_train, y_train)\n",
    "y_predict = rf.predict(X_test)"
   ]
  },
  {
   "cell_type": "code",
   "execution_count": 32,
   "metadata": {},
   "outputs": [
    {
     "name": "stdout",
     "output_type": "stream",
     "text": [
      "0.5107599773491645\n",
      "0.9220973782771535\n",
      "0.8617766023646546\n",
      "0.9914981206371934\n"
     ]
    }
   ],
   "source": [
    "print(roc_auc_score(y_test,y_predict))\n",
    "print(f1_score(y_test,y_predict))\n",
    "print(precision_score(y_test,y_predict))\n",
    "print(recall_score(y_test,y_predict))"
   ]
  },
  {
   "cell_type": "code",
   "execution_count": null,
   "metadata": {},
   "outputs": [],
   "source": []
  }
 ],
 "metadata": {
  "kernelspec": {
   "display_name": "Python 3",
   "language": "python",
   "name": "python3"
  },
  "language_info": {
   "codemirror_mode": {
    "name": "ipython",
    "version": 3
   },
   "file_extension": ".py",
   "mimetype": "text/x-python",
   "name": "python",
   "nbconvert_exporter": "python",
   "pygments_lexer": "ipython3",
   "version": "3.8.3"
  }
 },
 "nbformat": 4,
 "nbformat_minor": 4
}
